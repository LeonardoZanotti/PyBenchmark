{
 "metadata": {
  "language_info": {
   "codemirror_mode": {
    "name": "ipython",
    "version": 3
   },
   "file_extension": ".py",
   "mimetype": "text/x-python",
   "name": "python",
   "nbconvert_exporter": "python",
   "pygments_lexer": "ipython3",
   "version": "3.7.9-final"
  },
  "orig_nbformat": 2,
  "kernelspec": {
   "name": "python3",
   "display_name": "Python 3.7.9 64-bit",
   "metadata": {
    "interpreter": {
     "hash": "e774977668b7c0ae8309835a5187aa7fbf7669e7d0bb59755bc63e573643edcd"
    }
   }
  }
 },
 "nbformat": 4,
 "nbformat_minor": 2,
 "cells": [
  {
   "cell_type": "code",
   "execution_count": 2,
   "metadata": {},
   "outputs": [],
   "source": [
    "import numpy as np\n",
    "\n",
    "arr1 = np.random.rand(20)\n",
    "arr2 = np.random.rand(20)\n",
    "\n",
    "res1 = np.c_[arr1, arr2]\n",
    "res2 = np.stack([arr1, arr2]).T\n",
    "res3 = np.vstack([arr1, arr2]).T\n",
    "res4 = np.column_stack([arr1, arr2])\n",
    "res5 = np.concatenate([arr1[:, None], arr2[:, None]], axis=1)"
   ]
  },
  {
   "cell_type": "code",
   "execution_count": 4,
   "metadata": {},
   "outputs": [
    {
     "output_type": "stream",
     "name": "stdout",
     "text": [
      "True\nTrue\nTrue\nTrue\n"
     ]
    }
   ],
   "source": [
    "print(np.array_equal(res1, res2))\n",
    "print(np.array_equal(res2, res3))\n",
    "print(np.array_equal(res3, res4))\n",
    "print(np.array_equal(res4, res5))"
   ]
  },
  {
   "cell_type": "code",
   "execution_count": null,
   "metadata": {},
   "outputs": [],
   "source": [
    "import perfplot\n",
    "\n",
    "perfplot.show(\n",
    "    setup=np.random.rand,\n",
    "    kernels=[\n",
    "        lambda a: np.c_[a, a],\n",
    "        lambda a: np.stack([a, a]).T,\n",
    "        lambda a: np.vstack([a, a]).T,\n",
    "        lambda a: np.column_stack([a, a]),\n",
    "        lambda a: np.concatenate([a[:, None], a[:, None]], axis=1),\n",
    "    ],\n",
    "    labels=[\"c_\", \"stack\", \"vstack\", \"column_stack\", \"concatenate\"],\n",
    "    n_range=[2 ** k for k in range(15)],\n",
    "    xlabel=\"len(a)\"\n",
    ")"
   ]
  },
  {
   "cell_type": "code",
   "execution_count": null,
   "metadata": {},
   "outputs": [],
   "source": []
  }
 ]
}